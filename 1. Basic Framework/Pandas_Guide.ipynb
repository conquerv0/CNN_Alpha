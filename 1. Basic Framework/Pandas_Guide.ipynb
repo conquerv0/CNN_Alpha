{
  "nbformat": 4,
  "nbformat_minor": 0,
  "metadata": {
    "colab": {
      "name": "Pandas_Guide.ipynb",
      "provenance": [],
      "collapsed_sections": [],
      "authorship_tag": "ABX9TyPmalOdol/aG4wq9QrzcTfG",
      "include_colab_link": true
    },
    "kernelspec": {
      "name": "python3",
      "display_name": "Python 3"
    }
  },
  "cells": [
    {
      "cell_type": "markdown",
      "metadata": {
        "id": "view-in-github",
        "colab_type": "text"
      },
      "source": [
        "<a href=\"https://colab.research.google.com/github/conquerv0/CNN_Alpha/blob/master/1.%20Basic%20Framework/Pandas_Guide.ipynb\" target=\"_parent\"><img src=\"https://colab.research.google.com/assets/colab-badge.svg\" alt=\"Open In Colab\"/></a>"
      ]
    },
    {
      "cell_type": "markdown",
      "metadata": {
        "id": "2EosN10U8WDU",
        "colab_type": "text"
      },
      "source": [
        "# **Data Analysis with Pandas**\n",
        "\n",
        "Pandas provides a range of toolkit for data analysis through the two basic pandas data strucutures: DataFrame and Series. This guide introduces the basic characteristics of the two classes and explores the capacity Pandas provides through these two classes and other powerful functions. \n"
      ]
    },
    {
      "cell_type": "markdown",
      "metadata": {
        "id": "L_v8Uv4X-fmB",
        "colab_type": "text"
      },
      "source": [
        "**I. DataFrame**\n",
        "\n",
        "The DataFrame class can efficiently handle data in tabular form, similar to a relational database and an Excel spreadsheet. \n"
      ]
    },
    {
      "cell_type": "code",
      "metadata": {
        "id": "zLPSt9wH8TnW",
        "colab_type": "code",
        "colab": {
          "base_uri": "https://localhost:8080/",
          "height": 67
        },
        "outputId": "76c06405-8d58-461e-a2a3-03eedc8d0698"
      },
      "source": [
        "import pandas as pd\n",
        "# Defining a dataframe with specified column label and index values.\n",
        "df = pd.DataFrame([400, 200, 90, 300], \n",
        "                  columns=['Price'], \n",
        "                  index=['a', 'b', 'c', 'd'])\n",
        "\n",
        "# Index and Columns attribute and object.\n",
        "df.index\n",
        "df.columns\n",
        "\n",
        "# Get value at the specified index\n",
        "df.loc['c']\n",
        "df.iloc[1:3]\n",
        "\n",
        "# Calculate the sum of a column\n",
        "df.sum()\n",
        "\n",
        "# Use apply method to calculate in a vectorized fashion\n",
        "df.apply(lambda x: x ** 2)\n",
        "df**2 \n",
        "\n",
        "# Modifying dataframe by adding columns of different object, \n",
        "# even df object is possible. The indices will be aligned automatically.\n",
        "df['put/call'] = (0.3, 0.5, 0.8, 0.2)\n",
        "df['ticker'] = pd.DataFrame(['TSLA', 'AMD', 'AAPL', 'BABA'], \n",
        "                            index=['a', 'c', 'b', 'd'])\n",
        "\n",
        "\"\"\"\n",
        "Note that appending other data to the pandas dataframe work similarly.\n",
        "However, appending some data structure such as dictionary, \n",
        "incomplete data can results in loss of index information \n",
        "and NaN values respectively.\n",
        "\"\"\"\n",
        "\n",
        "df\n",
        "\n",
        "# Calculate the mean over the columns specified.\n",
        "df[['Price','put/call']].mean()\n",
        "df[['Price','put/call']].std()"
      ],
      "execution_count": null,
      "outputs": [
        {
          "output_type": "execute_result",
          "data": {
            "text/plain": [
              "Price       133.010025\n",
              "put/call      0.264575\n",
              "dtype: float64"
            ]
          },
          "metadata": {
            "tags": []
          },
          "execution_count": 2
        }
      ]
    },
    {
      "cell_type": "code",
      "metadata": {
        "id": "Q8x_byhdz-O9",
        "colab_type": "code",
        "colab": {
          "base_uri": "https://localhost:8080/",
          "height": 168
        },
        "outputId": "8b14f71e-b156-4742-ede9-23d572e3916f"
      },
      "source": [
        "import numpy as np\n",
        "\n",
        "# Set up a normally distributed random number ndarray.\n",
        "np.random.seed(100)\n",
        "a = np.random.standard_normal((9,4))\n",
        "\n",
        "# Creating the dataframe from ndarray object.\n",
        "df = pd.DataFrame(a)\n",
        "\n",
        "# This process can be \"undone\", that is, ndarray can be created from df.\n",
        "df.values\n",
        "np.array(df)"
      ],
      "execution_count": 9,
      "outputs": [
        {
          "output_type": "execute_result",
          "data": {
            "text/plain": [
              "array([[-1.74976547,  0.3426804 ,  1.1530358 , -0.25243604],\n",
              "       [ 0.98132079,  0.51421884,  0.22117967, -1.07004333],\n",
              "       [-0.18949583,  0.25500144, -0.45802699,  0.43516349],\n",
              "       [-0.58359505,  0.81684707,  0.67272081, -0.10441114],\n",
              "       [-0.53128038,  1.02973269, -0.43813562, -1.11831825],\n",
              "       [ 1.61898166,  1.54160517, -0.25187914, -0.84243574],\n",
              "       [ 0.18451869,  0.9370822 ,  0.73100034,  1.36155613],\n",
              "       [-0.32623806,  0.05567601,  0.22239961, -1.443217  ],\n",
              "       [-0.75635231,  0.81645401,  0.75044476, -0.45594693]])"
            ]
          },
          "metadata": {
            "tags": []
          },
          "execution_count": 9
        }
      ]
    },
    {
      "cell_type": "markdown",
      "metadata": {
        "id": "iPWDqCYF0eSG",
        "colab_type": "text"
      },
      "source": [
        "DateTimeIndex object can be generated by date_range function. The frequency parameter that can be taken are as followed:\n",
        "\n",
        "B Business day frequency\n",
        "\n",
        "C Custom business day frequency\n",
        "\n",
        "D Calendar day frequency\n"
      ]
    },
    {
      "cell_type": "markdown",
      "metadata": {
        "id": "CL553BX15vsy",
        "colab_type": "text"
      },
      "source": [
        "**2. Basic Analytics**"
      ]
    },
    {
      "cell_type": "code",
      "metadata": {
        "id": "Q76rP0gd55kY",
        "colab_type": "code",
        "colab": {}
      },
      "source": [
        "# Get metainformation regarding the data.\n",
        "df.info()\n",
        "\n",
        "# Get summary statistics per columns. \n",
        "df.describe()\n",
        "\n",
        "# Calculate differents sums and means.\n",
        "df.sum()\n",
        "df.mean()\n",
        "df.mean(axis=0)\n",
        "\n",
        "# Row-wise mean\n",
        "df.mean(axis=1)\n",
        "\n",
        "# Column-wise cumulative mean.\n",
        "df.cumsum()"
      ],
      "execution_count": null,
      "outputs": []
    },
    {
      "cell_type": "markdown",
      "metadata": {
        "id": "Y4yv4n6WlDIl",
        "colab_type": "text"
      },
      "source": [
        "In general, Pandas DataFrame object also support NumPy Universal functions, similar to applying such operations to an ndarray objects that contain the same type of data."
      ]
    },
    {
      "cell_type": "code",
      "metadata": {
        "id": "IRRXqgKElJ8g",
        "colab_type": "code",
        "colab": {}
      },
      "source": [
        "# Column-wise mean\n",
        "np.mean(df)\n",
        "\n",
        "# Element-wise natural logarithm\n",
        "np.log(df)\n",
        "\n",
        "# Element-wise square root for the absolute values.\n",
        "np.sqrt(abs(df))"
      ],
      "execution_count": null,
      "outputs": []
    },
    {
      "cell_type": "markdown",
      "metadata": {
        "id": "gL5WWiYfuioG",
        "colab_type": "text"
      },
      "source": [
        "3. Basic Visualization\n",
        "\n",
        "Pandas also provide a wrapper for matplotlib specifically designed to support DataFrame object. Such, some basic visualization of data can be performed on pandas. "
      ]
    },
    {
      "cell_type": "code",
      "metadata": {
        "id": "7pblkN-Ovadl",
        "colab_type": "code",
        "colab": {
          "base_uri": "https://localhost:8080/",
          "height": 747
        },
        "outputId": "bd8315b3-8229-4f0e-ef15-ee48785562f1"
      },
      "source": [
        "from pylab import plt, mpl\n",
        "\n",
        "# Customize the plotting style with seaborn\n",
        "plt.style.use('seaborn')\n",
        "mpl.rcParams['font.family'] = 'serif'\n",
        "\n",
        "# makes the plot appears in line with the code.\n",
        "%matplotlib inline\n",
        "\n",
        "# Plot the mean as line plot\n",
        "df.cumsum().plot(lw=2.0, figsize=(10, 6))\n",
        "\n",
        "# Alternatively, we can plot a bar plot with the same data\n",
        "df.plot.bar(figsize=(10, 6), rot=15)\n",
        "\n",
        "# or, equivalently: df.plot(kind='bar', figsize=(10, 6))"
      ],
      "execution_count": null,
      "outputs": [
        {
          "output_type": "execute_result",
          "data": {
            "text/plain": [
              "<matplotlib.axes._subplots.AxesSubplot at 0x7f5a6b19b4a8>"
            ]
          },
          "metadata": {
            "tags": []
          },
          "execution_count": 6
        },
        {
          "output_type": "display_data",
          "data": {
            "image/png": "[encoded data removed]",
            "text/plain": [
              "<Figure size 720x432 with 1 Axes>"
            ]
          },
          "metadata": {
            "tags": [],
            "needs_background": "light"
          }
        },
        {
          "output_type": "display_data",
          "data": {
            "image/png": "[encoded data removed]",
            "text/plain": [
              "<Figure size 720x432 with 1 Axes>"
            ]
          },
          "metadata": {
            "tags": [],
            "needs_background": "light"
          }
        }
      ]
    },
    {
      "cell_type": "markdown",
      "metadata": {
        "id": "kP9nedIp6vs_",
        "colab_type": "text"
      },
      "source": [
        "**II. The Series Class**\n",
        "\n",
        "Series is another important class in the Pandas packages. It is characterized by its feature of having only a single column of data. Such, it can be obtained from selecting a single column from a multi-column DataFrame object.\n",
        "\n"
      ]
    },
    {
      "cell_type": "code",
      "metadata": {
        "id": "YLFFeHFk7nTW",
        "colab_type": "code",
        "colab": {
          "base_uri": "https://localhost:8080/",
          "height": 390
        },
        "outputId": "e7df1a52-302d-4091-f32d-8e19d5d88661"
      },
      "source": [
        "type(df)\n",
        "sc = pd.Series(np.linspace(0, 15, 7), name='series')\n",
        "type(sc)\n",
        "\n",
        "# All main methods for pandas DataFrame work for Series \n",
        "sc.plot(lw=2.0, figsize=(10, 6))\n",
        "sc.mean()"
      ],
      "execution_count": 10,
      "outputs": [
        {
          "output_type": "execute_result",
          "data": {
            "text/plain": [
              "7.5"
            ]
          },
          "metadata": {
            "tags": []
          },
          "execution_count": 10
        },
        {
          "output_type": "display_data",
          "data": {
            "image/png": "[encoded data removed]",
            "text/plain": [
              "<Figure size 720x432 with 1 Axes>"
            ]
          },
          "metadata": {
            "tags": [],
            "needs_background": "light"
          }
        }
      ]
    },
    {
      "cell_type": "markdown",
      "metadata": {
        "id": "QQr9KwL-8Sib",
        "colab_type": "text"
      },
      "source": [
        "4. GroupBy Operation\n",
        "\n",
        "GroupBy operation works similar to the GroupBy in SQL"
      ]
    },
    {
      "cell_type": "code",
      "metadata": {
        "id": "IkWw8irq8ijF",
        "colab_type": "code",
        "colab": {
          "base_uri": "https://localhost:8080/",
          "height": 195
        },
        "outputId": "bf082f15-e1f2-4c6e-861c-7c376de35fd4"
      },
      "source": [
        "# Randomly construct some dataframe\n",
        "import numpy as np\n",
        "np.random.seed(100)\n",
        "a = np.random.standard_normal((9, 4))\n",
        "df = pd.DataFrame(a)\n",
        "df.columns = ['No1', 'No2', 'No3', 'No4']\n",
        "dates = pd.date_range('2019-1-1', periods=9, freq='M')\n",
        "\n",
        "df['Quarter']=['Q1', 'Q1', 'Q1', 'Q2', 'Q2', 'Q2', 'Q3', 'Q3', 'Q3']\n",
        "\n",
        "# Group according to the quarter column.\n",
        "groups = df.groupby('Quarter')\n",
        "\n",
        "# Obtain various information about the groups.\n",
        "groups.size()\n",
        "groups.mean()\n",
        "groups.max()\n",
        "\n",
        "# Aggregating the calculated results. \n",
        "groups.aggregate([min, max]).round(2)"
      ],
      "execution_count": 13,
      "outputs": [
        {
          "output_type": "execute_result",
          "data": {
            "text/html": [
              "<div>\n",
              "<style scoped>\n",
              "    .dataframe tbody tr th:only-of-type {\n",
              "        vertical-align: middle;\n",
              "    }\n",
              "\n",
              "    .dataframe tbody tr th {\n",
              "        vertical-align: top;\n",
              "    }\n",
              "\n",
              "    .dataframe thead tr th {\n",
              "        text-align: left;\n",
              "    }\n",
              "\n",
              "    .dataframe thead tr:last-of-type th {\n",
              "        text-align: right;\n",
              "    }\n",
              "</style>\n",
              "<table border=\"1\" class=\"dataframe\">\n",
              "  <thead>\n",
              "    <tr>\n",
              "      <th></th>\n",
              "      <th colspan=\"2\" halign=\"left\">No1</th>\n",
              "      <th colspan=\"2\" halign=\"left\">No2</th>\n",
              "      <th colspan=\"2\" halign=\"left\">No3</th>\n",
              "      <th colspan=\"2\" halign=\"left\">No4</th>\n",
              "    </tr>\n",
              "    <tr>\n",
              "      <th></th>\n",
              "      <th>min</th>\n",
              "      <th>max</th>\n",
              "      <th>min</th>\n",
              "      <th>max</th>\n",
              "      <th>min</th>\n",
              "      <th>max</th>\n",
              "      <th>min</th>\n",
              "      <th>max</th>\n",
              "    </tr>\n",
              "    <tr>\n",
              "      <th>Quarter</th>\n",
              "      <th></th>\n",
              "      <th></th>\n",
              "      <th></th>\n",
              "      <th></th>\n",
              "      <th></th>\n",
              "      <th></th>\n",
              "      <th></th>\n",
              "      <th></th>\n",
              "    </tr>\n",
              "  </thead>\n",
              "  <tbody>\n",
              "    <tr>\n",
              "      <th>Q1</th>\n",
              "      <td>-1.75</td>\n",
              "      <td>0.98</td>\n",
              "      <td>0.26</td>\n",
              "      <td>0.51</td>\n",
              "      <td>-0.46</td>\n",
              "      <td>1.15</td>\n",
              "      <td>-1.07</td>\n",
              "      <td>0.44</td>\n",
              "    </tr>\n",
              "    <tr>\n",
              "      <th>Q2</th>\n",
              "      <td>-0.58</td>\n",
              "      <td>1.62</td>\n",
              "      <td>0.82</td>\n",
              "      <td>1.54</td>\n",
              "      <td>-0.44</td>\n",
              "      <td>0.67</td>\n",
              "      <td>-1.12</td>\n",
              "      <td>-0.10</td>\n",
              "    </tr>\n",
              "    <tr>\n",
              "      <th>Q3</th>\n",
              "      <td>-0.76</td>\n",
              "      <td>0.18</td>\n",
              "      <td>0.06</td>\n",
              "      <td>0.94</td>\n",
              "      <td>0.22</td>\n",
              "      <td>0.75</td>\n",
              "      <td>-1.44</td>\n",
              "      <td>1.36</td>\n",
              "    </tr>\n",
              "  </tbody>\n",
              "</table>\n",
              "</div>"
            ],
            "text/plain": [
              "          No1         No2         No3         No4      \n",
              "          min   max   min   max   min   max   min   max\n",
              "Quarter                                                \n",
              "Q1      -1.75  0.98  0.26  0.51 -0.46  1.15 -1.07  0.44\n",
              "Q2      -0.58  1.62  0.82  1.54 -0.44  0.67 -1.12 -0.10\n",
              "Q3      -0.76  0.18  0.06  0.94  0.22  0.75 -1.44  1.36"
            ]
          },
          "metadata": {
            "tags": []
          },
          "execution_count": 13
        }
      ]
    },
    {
      "cell_type": "markdown",
      "metadata": {
        "id": "8xdZWL40_H1M",
        "colab_type": "text"
      },
      "source": [
        "Grouping can also be done with multiple groups, such multiple criteria can be used."
      ]
    },
    {
      "cell_type": "code",
      "metadata": {
        "id": "qFYtI01d_HjF",
        "colab_type": "code",
        "colab": {
          "base_uri": "https://localhost:8080/",
          "height": 284
        },
        "outputId": "ffcad5ec-4ca4-48c3-a512-bac4ef2b552f"
      },
      "source": [
        "df['Odd_Even'] = ['Odd', 'Even', 'Odd', 'Even', 'Odd', 'Even', 'Odd', 'Even', 'Odd']\n",
        "groups = df.groupby(['Quarter', 'Odd_Even'])\n",
        "groups.size()\n",
        "groups[['No1', 'No4']].aggregate([sum, np.mean])"
      ],
      "execution_count": 15,
      "outputs": [
        {
          "output_type": "execute_result",
          "data": {
            "text/html": [
              "<div>\n",
              "<style scoped>\n",
              "    .dataframe tbody tr th:only-of-type {\n",
              "        vertical-align: middle;\n",
              "    }\n",
              "\n",
              "    .dataframe tbody tr th {\n",
              "        vertical-align: top;\n",
              "    }\n",
              "\n",
              "    .dataframe thead tr th {\n",
              "        text-align: left;\n",
              "    }\n",
              "\n",
              "    .dataframe thead tr:last-of-type th {\n",
              "        text-align: right;\n",
              "    }\n",
              "</style>\n",
              "<table border=\"1\" class=\"dataframe\">\n",
              "  <thead>\n",
              "    <tr>\n",
              "      <th></th>\n",
              "      <th></th>\n",
              "      <th colspan=\"2\" halign=\"left\">No1</th>\n",
              "      <th colspan=\"2\" halign=\"left\">No4</th>\n",
              "    </tr>\n",
              "    <tr>\n",
              "      <th></th>\n",
              "      <th></th>\n",
              "      <th>sum</th>\n",
              "      <th>mean</th>\n",
              "      <th>sum</th>\n",
              "      <th>mean</th>\n",
              "    </tr>\n",
              "    <tr>\n",
              "      <th>Quarter</th>\n",
              "      <th>Odd_Even</th>\n",
              "      <th></th>\n",
              "      <th></th>\n",
              "      <th></th>\n",
              "      <th></th>\n",
              "    </tr>\n",
              "  </thead>\n",
              "  <tbody>\n",
              "    <tr>\n",
              "      <th rowspan=\"2\" valign=\"top\">Q1</th>\n",
              "      <th>Even</th>\n",
              "      <td>0.981321</td>\n",
              "      <td>0.981321</td>\n",
              "      <td>-1.070043</td>\n",
              "      <td>-1.070043</td>\n",
              "    </tr>\n",
              "    <tr>\n",
              "      <th>Odd</th>\n",
              "      <td>-1.939261</td>\n",
              "      <td>-0.969631</td>\n",
              "      <td>0.182727</td>\n",
              "      <td>0.091364</td>\n",
              "    </tr>\n",
              "    <tr>\n",
              "      <th rowspan=\"2\" valign=\"top\">Q2</th>\n",
              "      <th>Even</th>\n",
              "      <td>1.035387</td>\n",
              "      <td>0.517693</td>\n",
              "      <td>-0.946847</td>\n",
              "      <td>-0.473423</td>\n",
              "    </tr>\n",
              "    <tr>\n",
              "      <th>Odd</th>\n",
              "      <td>-0.531280</td>\n",
              "      <td>-0.531280</td>\n",
              "      <td>-1.118318</td>\n",
              "      <td>-1.118318</td>\n",
              "    </tr>\n",
              "    <tr>\n",
              "      <th rowspan=\"2\" valign=\"top\">Q3</th>\n",
              "      <th>Even</th>\n",
              "      <td>-0.326238</td>\n",
              "      <td>-0.326238</td>\n",
              "      <td>-1.443217</td>\n",
              "      <td>-1.443217</td>\n",
              "    </tr>\n",
              "    <tr>\n",
              "      <th>Odd</th>\n",
              "      <td>-0.571834</td>\n",
              "      <td>-0.285917</td>\n",
              "      <td>0.905609</td>\n",
              "      <td>0.452805</td>\n",
              "    </tr>\n",
              "  </tbody>\n",
              "</table>\n",
              "</div>"
            ],
            "text/plain": [
              "                       No1                 No4          \n",
              "                       sum      mean       sum      mean\n",
              "Quarter Odd_Even                                        \n",
              "Q1      Even      0.981321  0.981321 -1.070043 -1.070043\n",
              "        Odd      -1.939261 -0.969631  0.182727  0.091364\n",
              "Q2      Even      1.035387  0.517693 -0.946847 -0.473423\n",
              "        Odd      -0.531280 -0.531280 -1.118318 -1.118318\n",
              "Q3      Even     -0.326238 -0.326238 -1.443217 -1.443217\n",
              "        Odd      -0.571834 -0.285917  0.905609  0.452805"
            ]
          },
          "metadata": {
            "tags": []
          },
          "execution_count": 15
        }
      ]
    }
  ]
}